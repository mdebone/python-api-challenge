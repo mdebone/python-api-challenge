{
 "cells": [
  {
   "cell_type": "code",
   "execution_count": 225,
   "metadata": {},
   "outputs": [],
   "source": [
    "# Dependencies and Setup\n",
    "import matplotlib.pyplot as plt\n",
    "import pandas as pd\n",
    "import numpy as np\n",
    "import requests\n",
    "import time\n",
    "import os\n",
    "from dotenv import load_dotenv\n",
    "from scipy.stats import linregress\n",
    "\n",
    "# load the .env environment variables into the notebook\n",
    "load_dotenv()\n",
    "\n",
    "#Get the API key from the environment variable as Python variable\n",
    "weather_api_key = os.getenv(\"weather_api_key\")\n",
    "\n",
    "temp_units = \"imperial\"\n",
    "\n",
    "# Incorporated citipy to determine city based on latitude and longitude\n",
    "from citipy import citipy\n",
    "\n",
    "# Output File (CSV)\n",
    "output_data_file = \"output_data/cities.csv\"\n",
    "\n",
    "# Range of latitudes and longitudes\n",
    "lat_range = (-90, 90)\n",
    "lng_range = (-180, 180)\n",
    "\n",
    "# define url\n",
    "query_url = f\"http://api.openweathermap.org/data/2.5/weather?appid={weather_api_key}&units={temp_units}&q=\"\n",
    "\n",
    "# define count of pass throughs\n",
    "count_one = 0\n",
    "set_one = 1"
   ]
  },
  {
   "cell_type": "code",
   "execution_count": 2,
   "metadata": {},
   "outputs": [
    {
     "data": {
      "text/plain": [
       "625"
      ]
     },
     "execution_count": 2,
     "metadata": {},
     "output_type": "execute_result"
    }
   ],
   "source": [
    "# List for holding lat_lngs and cities\n",
    "lat_lngs = []\n",
    "cities = []\n",
    "\n",
    "# Create a set of random lat and lng combinations\n",
    "lats = np.random.uniform(low=-90.000, high=90.000, size=1500)\n",
    "lngs = np.random.uniform(low=-180.000, high=180.000, size=1500)\n",
    "lat_lngs = zip(lats, lngs)\n",
    "\n",
    "# Identify nearest city for each lat, lng combination\n",
    "for lat_lng in lat_lngs:\n",
    "    city = citipy.nearest_city(lat_lng[0], lat_lng[1]).city_name\n",
    "    \n",
    "# If the city is unique, then add it to a our cities list\n",
    "    if city not in cities:\n",
    "        cities.append(city)\n",
    "\n",
    "# Print the city count to confirm sufficient count\n",
    "len(cities)"
   ]
  },
  {
   "cell_type": "code",
   "execution_count": 3,
   "metadata": {
    "scrolled": true
   },
   "outputs": [
    {
     "name": "stdout",
     "output_type": "stream",
     "text": [
      "\n",
      "-----------------------------\n",
      "Beginning Data Retrieval     \n",
      "-----------------------------\n",
      "Processing Record 1 of Set 1 | tiznit\n",
      "Processing Record 2 of Set 1 | sokolo\n",
      "Processing Record 3 of Set 1 | maldonado\n",
      "Processing Record 4 of Set 1 | kalabo\n",
      "Processing Record 5 of Set 1 | ushuaia\n",
      "Processing Record 6 of Set 1 | touros\n",
      "Processing Record 7 of Set 1 | rikitea\n",
      "Processing Record 8 of Set 1 | san policarpo\n",
      "City not found. Skipping...\n",
      "City not found. Skipping...\n",
      "City not found. Skipping...\n",
      "Processing Record 9 of Set 1 | ancud\n",
      "Processing Record 10 of Set 1 | lompoc\n",
      "Processing Record 11 of Set 1 | atuona\n",
      "Processing Record 12 of Set 1 | pandan niog\n",
      "Processing Record 13 of Set 1 | raga\n",
      "Processing Record 14 of Set 1 | torbay\n",
      "Processing Record 15 of Set 1 | mataura\n",
      "Processing Record 16 of Set 1 | sorland\n",
      "Processing Record 17 of Set 1 | chapais\n",
      "Processing Record 18 of Set 1 | ribeira grande\n",
      "Processing Record 19 of Set 1 | hermanus\n",
      "Processing Record 20 of Set 1 | rio grande\n",
      "Processing Record 21 of Set 1 | horki\n",
      "Processing Record 22 of Set 1 | barrow\n",
      "Processing Record 23 of Set 1 | wanaka\n",
      "Processing Record 24 of Set 1 | bethel\n",
      "Processing Record 25 of Set 1 | busselton\n",
      "City not found. Skipping...\n",
      "Processing Record 26 of Set 1 | banda aceh\n",
      "Processing Record 27 of Set 1 | jamestown\n",
      "Processing Record 28 of Set 1 | provideniya\n",
      "Processing Record 29 of Set 1 | port alfred\n",
      "City not found. Skipping...\n",
      "Processing Record 30 of Set 1 | souillac\n",
      "Processing Record 31 of Set 1 | haines junction\n",
      "Processing Record 32 of Set 1 | fortuna\n",
      "Processing Record 33 of Set 1 | nha trang\n",
      "Processing Record 34 of Set 1 | namikupa\n",
      "Processing Record 35 of Set 1 | punta arenas\n",
      "Processing Record 36 of Set 1 | letka\n",
      "Processing Record 37 of Set 1 | kapaa\n",
      "Processing Record 38 of Set 1 | zambezi\n",
      "Processing Record 39 of Set 1 | upernavik\n",
      "Processing Record 40 of Set 1 | khatanga\n",
      "Processing Record 41 of Set 1 | ponta delgada\n",
      "Processing Record 42 of Set 1 | cascais\n",
      "Processing Record 43 of Set 1 | thompson\n",
      "Processing Record 44 of Set 1 | oistins\n",
      "Processing Record 45 of Set 1 | srednekolymsk\n",
      "Processing Record 46 of Set 1 | cherskiy\n",
      "City not found. Skipping...\n",
      "Processing Record 47 of Set 1 | chicama\n",
      "Processing Record 48 of Set 1 | bredasdorp\n",
      "Processing Record 49 of Set 1 | ilulissat\n",
      "Processing Record 1 of Set 2 | pacific grove\n",
      "Processing Record 2 of Set 2 | kruisfontein\n",
      "Processing Record 3 of Set 2 | kodiak\n",
      "Processing Record 4 of Set 2 | palmer\n",
      "Processing Record 5 of Set 2 | hobart\n",
      "Processing Record 6 of Set 2 | chokurdakh\n",
      "Processing Record 7 of Set 2 | mount gambier\n",
      "Processing Record 8 of Set 2 | troyes\n",
      "Processing Record 9 of Set 2 | salinas\n",
      "Processing Record 10 of Set 2 | yar-sale\n",
      "Processing Record 11 of Set 2 | billings\n",
      "Processing Record 12 of Set 2 | muli\n",
      "Processing Record 13 of Set 2 | nhulunbuy\n",
      "Processing Record 14 of Set 2 | saint-philippe\n",
      "Processing Record 15 of Set 2 | bluff\n",
      "City not found. Skipping...\n",
      "Processing Record 16 of Set 2 | staunton\n",
      "Processing Record 17 of Set 2 | kahului\n",
      "Processing Record 18 of Set 2 | albany\n",
      "Processing Record 19 of Set 2 | van\n",
      "Processing Record 20 of Set 2 | hilo\n",
      "Processing Record 21 of Set 2 | morant bay\n",
      "Processing Record 22 of Set 2 | pevek\n",
      "Processing Record 23 of Set 2 | codrington\n",
      "Processing Record 24 of Set 2 | boralday\n",
      "Processing Record 25 of Set 2 | vaini\n",
      "Processing Record 26 of Set 2 | tuktoyaktuk\n",
      "Processing Record 27 of Set 2 | port elizabeth\n",
      "Processing Record 28 of Set 2 | aasiaat\n",
      "Processing Record 29 of Set 2 | saskylakh\n",
      "Processing Record 30 of Set 2 | norman wells\n",
      "Processing Record 31 of Set 2 | cape town\n",
      "Processing Record 32 of Set 2 | salalah\n",
      "Processing Record 33 of Set 2 | sokoto\n",
      "City not found. Skipping...\n",
      "Processing Record 34 of Set 2 | sioux lookout\n",
      "Processing Record 35 of Set 2 | lugovoy\n",
      "Processing Record 36 of Set 2 | porto empedocle\n",
      "Processing Record 37 of Set 2 | tasiilaq\n",
      "Processing Record 38 of Set 2 | maceio\n",
      "Processing Record 39 of Set 2 | canoinhas\n",
      "Processing Record 40 of Set 2 | hithadhoo\n",
      "Processing Record 41 of Set 2 | airai\n",
      "Processing Record 42 of Set 2 | port blair\n",
      "City not found. Skipping...\n",
      "Processing Record 43 of Set 2 | yellowknife\n",
      "Processing Record 44 of Set 2 | ucluelet\n",
      "City not found. Skipping...\n",
      "Processing Record 45 of Set 2 | avarua\n",
      "Processing Record 46 of Set 2 | laguna\n",
      "Processing Record 47 of Set 2 | asau\n",
      "Processing Record 48 of Set 2 | maroantsetra\n",
      "Processing Record 49 of Set 2 | natal\n",
      "Processing Record 1 of Set 3 | verkhoyansk\n",
      "Processing Record 2 of Set 3 | bunia\n",
      "City not found. Skipping...\n",
      "Processing Record 3 of Set 3 | verkhnyaya inta\n",
      "Processing Record 4 of Set 3 | jumla\n",
      "Processing Record 5 of Set 3 | bonavista\n",
      "Processing Record 6 of Set 3 | tuatapere\n",
      "Processing Record 7 of Set 3 | clyde river\n",
      "Processing Record 8 of Set 3 | new norfolk\n",
      "Processing Record 9 of Set 3 | sao filipe\n",
      "Processing Record 10 of Set 3 | guane\n",
      "Processing Record 11 of Set 3 | harper\n",
      "Processing Record 12 of Set 3 | ngunguru\n",
      "Processing Record 13 of Set 3 | ahipara\n",
      "City not found. Skipping...\n",
      "Processing Record 14 of Set 3 | meulaboh\n",
      "Processing Record 15 of Set 3 | butaritari\n",
      "Processing Record 16 of Set 3 | port lincoln\n",
      "Processing Record 17 of Set 3 | carnarvon\n",
      "Processing Record 18 of Set 3 | san patricio\n",
      "City not found. Skipping...\n",
      "Processing Record 19 of Set 3 | ilinskiy\n",
      "Processing Record 20 of Set 3 | georgetown\n",
      "Processing Record 21 of Set 3 | abu kamal\n",
      "Processing Record 22 of Set 3 | dikson\n",
      "Processing Record 23 of Set 3 | kanniyakumari\n",
      "Processing Record 24 of Set 3 | faanui\n",
      "Processing Record 25 of Set 3 | deputatskiy\n",
      "Processing Record 26 of Set 3 | tiksi\n",
      "Processing Record 27 of Set 3 | nikolskoye\n",
      "Processing Record 28 of Set 3 | manhush\n",
      "Processing Record 29 of Set 3 | rantepao\n",
      "Processing Record 30 of Set 3 | miandrivazo\n",
      "Processing Record 31 of Set 3 | puerto ayora\n",
      "Processing Record 32 of Set 3 | cap malheureux\n",
      "City not found. Skipping...\n",
      "Processing Record 33 of Set 3 | khromtau\n",
      "Processing Record 34 of Set 3 | altay\n",
      "Processing Record 35 of Set 3 | mar del plata\n",
      "Processing Record 36 of Set 3 | bograd\n",
      "City not found. Skipping...\n",
      "Processing Record 37 of Set 3 | guerrero negro\n",
      "Processing Record 38 of Set 3 | san quintin\n",
      "Processing Record 39 of Set 3 | bukachacha\n",
      "Processing Record 40 of Set 3 | east london\n",
      "Processing Record 41 of Set 3 | castro\n",
      "Processing Record 42 of Set 3 | marsh harbour\n",
      "City not found. Skipping...\n",
      "City not found. Skipping...\n",
      "Processing Record 43 of Set 3 | port macquarie\n",
      "Processing Record 44 of Set 3 | huarmey\n",
      "Processing Record 45 of Set 3 | malakal\n",
      "Processing Record 46 of Set 3 | muros\n",
      "Processing Record 47 of Set 3 | vrangel\n",
      "Processing Record 48 of Set 3 | menongue\n",
      "Processing Record 49 of Set 3 | qaanaaq\n",
      "Processing Record 1 of Set 4 | rio bueno\n",
      "Processing Record 2 of Set 4 | tura\n",
      "Processing Record 3 of Set 4 | mantua\n",
      "Processing Record 4 of Set 4 | roald\n",
      "Processing Record 5 of Set 4 | baymak\n",
      "Processing Record 6 of Set 4 | severo-kurilsk\n",
      "Processing Record 7 of Set 4 | tual\n",
      "City not found. Skipping...\n",
      "Processing Record 8 of Set 4 | barcelos\n",
      "Processing Record 9 of Set 4 | ponta do sol\n",
      "Processing Record 10 of Set 4 | mount pleasant\n",
      "Processing Record 11 of Set 4 | irati\n",
      "Processing Record 12 of Set 4 | maniitsoq\n",
      "Processing Record 13 of Set 4 | bambous virieux\n",
      "Processing Record 14 of Set 4 | bud\n",
      "Processing Record 15 of Set 4 | carupano\n",
      "Processing Record 16 of Set 4 | paso de los toros\n",
      "Processing Record 17 of Set 4 | taunggyi\n",
      "Processing Record 18 of Set 4 | griffith\n",
      "Processing Record 19 of Set 4 | yegorlykskaya\n",
      "Processing Record 20 of Set 4 | mortka\n",
      "Processing Record 21 of Set 4 | klaksvik\n",
      "City not found. Skipping...\n",
      "Processing Record 22 of Set 4 | eskil\n",
      "City not found. Skipping...\n",
      "Processing Record 23 of Set 4 | mogadishu\n",
      "Processing Record 24 of Set 4 | tala\n",
      "Processing Record 25 of Set 4 | petropavlovsk-kamchatskiy\n",
      "Processing Record 26 of Set 4 | geraldton\n",
      "Processing Record 27 of Set 4 | ugoofaaru\n",
      "Processing Record 28 of Set 4 | chuy\n",
      "Processing Record 29 of Set 4 | gornopravdinsk\n",
      "Processing Record 30 of Set 4 | arraial do cabo\n",
      "Processing Record 31 of Set 4 | itarema\n",
      "Processing Record 32 of Set 4 | santiago\n",
      "Processing Record 33 of Set 4 | mackay\n",
      "Processing Record 34 of Set 4 | soderhamn\n",
      "Processing Record 35 of Set 4 | novyy urgal\n",
      "Processing Record 36 of Set 4 | pointe-noire\n"
     ]
    },
    {
     "name": "stdout",
     "output_type": "stream",
     "text": [
      "Processing Record 37 of Set 4 | kaitangata\n",
      "Processing Record 38 of Set 4 | bereda\n",
      "City not found. Skipping...\n",
      "Processing Record 39 of Set 4 | hofn\n",
      "Processing Record 40 of Set 4 | puerto colombia\n",
      "City not found. Skipping...\n",
      "Processing Record 41 of Set 4 | bathsheba\n",
      "Processing Record 42 of Set 4 | hambantota\n",
      "Processing Record 43 of Set 4 | mahebourg\n",
      "Processing Record 44 of Set 4 | hasaki\n",
      "Processing Record 45 of Set 4 | wilmington\n",
      "Processing Record 46 of Set 4 | grindavik\n",
      "Processing Record 47 of Set 4 | hay river\n",
      "Processing Record 48 of Set 4 | kalmunai\n",
      "Processing Record 49 of Set 4 | yakeshi\n",
      "Processing Record 1 of Set 5 | rawson\n",
      "Processing Record 2 of Set 5 | beloha\n",
      "City not found. Skipping...\n",
      "Processing Record 3 of Set 5 | yeppoon\n",
      "Processing Record 4 of Set 5 | kangaatsiaq\n",
      "Processing Record 5 of Set 5 | tomohon\n",
      "City not found. Skipping...\n",
      "Processing Record 6 of Set 5 | antalaha\n",
      "Processing Record 7 of Set 5 | monte patria\n",
      "Processing Record 8 of Set 5 | chabua\n",
      "Processing Record 9 of Set 5 | husavik\n",
      "Processing Record 10 of Set 5 | roma\n",
      "Processing Record 11 of Set 5 | abu samrah\n",
      "Processing Record 12 of Set 5 | springdale\n",
      "City not found. Skipping...\n",
      "Processing Record 13 of Set 5 | veraval\n",
      "Processing Record 14 of Set 5 | ust-kulom\n",
      "Processing Record 15 of Set 5 | manosque\n",
      "Processing Record 16 of Set 5 | nantucket\n",
      "Processing Record 17 of Set 5 | pisco\n",
      "Processing Record 18 of Set 5 | acapulco\n",
      "Processing Record 19 of Set 5 | vacaria\n",
      "City not found. Skipping...\n",
      "Processing Record 20 of Set 5 | mattru\n",
      "City not found. Skipping...\n",
      "Processing Record 21 of Set 5 | beringovskiy\n",
      "City not found. Skipping...\n",
      "Processing Record 22 of Set 5 | ketchikan\n",
      "City not found. Skipping...\n",
      "Processing Record 23 of Set 5 | saldanha\n",
      "Processing Record 24 of Set 5 | dehui\n",
      "Processing Record 25 of Set 5 | lebu\n",
      "City not found. Skipping...\n",
      "Processing Record 26 of Set 5 | sechura\n",
      "Processing Record 27 of Set 5 | polyarnyy\n",
      "City not found. Skipping...\n",
      "Processing Record 28 of Set 5 | taoudenni\n",
      "Processing Record 29 of Set 5 | andi\n",
      "Processing Record 30 of Set 5 | mamou\n",
      "Processing Record 31 of Set 5 | cordele\n",
      "Processing Record 32 of Set 5 | madras\n",
      "Processing Record 33 of Set 5 | fajardo\n",
      "Processing Record 34 of Set 5 | tahoua\n",
      "Processing Record 35 of Set 5 | cabo san lucas\n",
      "Processing Record 36 of Set 5 | mayo\n",
      "Processing Record 37 of Set 5 | honiara\n",
      "Processing Record 38 of Set 5 | marrakesh\n",
      "City not found. Skipping...\n",
      "Processing Record 39 of Set 5 | lavrentiya\n",
      "Processing Record 40 of Set 5 | teknaf\n",
      "Processing Record 41 of Set 5 | pitkyaranta\n",
      "Processing Record 42 of Set 5 | baruun-urt\n",
      "Processing Record 43 of Set 5 | planadas\n",
      "Processing Record 44 of Set 5 | dwarka\n",
      "Processing Record 45 of Set 5 | daitari\n",
      "Processing Record 46 of Set 5 | vao\n",
      "Processing Record 47 of Set 5 | sedona\n",
      "Processing Record 48 of Set 5 | ostrovnoy\n",
      "Processing Record 49 of Set 5 | xuanhua\n",
      "City not found. Skipping...\n",
      "Processing Record 1 of Set 6 | broome\n",
      "Processing Record 2 of Set 6 | nouadhibou\n",
      "Processing Record 3 of Set 6 | winneba\n",
      "Processing Record 4 of Set 6 | durazno\n",
      "Processing Record 5 of Set 6 | longyearbyen\n",
      "City not found. Skipping...\n",
      "Processing Record 6 of Set 6 | mandi bahauddin\n",
      "Processing Record 7 of Set 6 | pokaran\n",
      "Processing Record 8 of Set 6 | nalut\n",
      "Processing Record 9 of Set 6 | kuroiso\n",
      "Processing Record 10 of Set 6 | southbridge\n",
      "Processing Record 11 of Set 6 | aksarka\n",
      "Processing Record 12 of Set 6 | bengkulu\n",
      "Processing Record 13 of Set 6 | rio gallegos\n",
      "City not found. Skipping...\n",
      "City not found. Skipping...\n",
      "Processing Record 14 of Set 6 | bozoum\n",
      "Processing Record 15 of Set 6 | tilichiki\n",
      "Processing Record 16 of Set 6 | inuvik\n",
      "Processing Record 17 of Set 6 | kaduna\n",
      "Processing Record 18 of Set 6 | dingle\n",
      "Processing Record 19 of Set 6 | coquimbo\n",
      "Processing Record 20 of Set 6 | rybachiy\n",
      "Processing Record 21 of Set 6 | vardo\n",
      "Processing Record 22 of Set 6 | changji\n",
      "Processing Record 23 of Set 6 | san ignacio\n",
      "Processing Record 24 of Set 6 | plettenberg bay\n",
      "Processing Record 25 of Set 6 | puyang\n",
      "Processing Record 26 of Set 6 | balao\n",
      "City not found. Skipping...\n",
      "Processing Record 27 of Set 6 | luena\n",
      "Processing Record 28 of Set 6 | oranjemund\n",
      "Processing Record 29 of Set 6 | kalulushi\n",
      "Processing Record 30 of Set 6 | chichigalpa\n",
      "Processing Record 31 of Set 6 | luderitz\n",
      "Processing Record 32 of Set 6 | caravelas\n",
      "Processing Record 33 of Set 6 | vanderhoof\n",
      "Processing Record 34 of Set 6 | kuching\n",
      "Processing Record 35 of Set 6 | mount isa\n",
      "Processing Record 36 of Set 6 | caraballeda\n",
      "Processing Record 37 of Set 6 | talnakh\n",
      "Processing Record 38 of Set 6 | nishihara\n",
      "Processing Record 39 of Set 6 | anadyr\n",
      "Processing Record 40 of Set 6 | ballina\n",
      "Processing Record 41 of Set 6 | de-kastri\n",
      "Processing Record 42 of Set 6 | gladstone\n",
      "Processing Record 43 of Set 6 | wanning\n",
      "Processing Record 44 of Set 6 | goroka\n",
      "Processing Record 45 of Set 6 | juazeiro\n",
      "Processing Record 46 of Set 6 | nouakchott\n",
      "Processing Record 47 of Set 6 | zaranj\n",
      "Processing Record 48 of Set 6 | bataipora\n",
      "Processing Record 49 of Set 6 | clifton\n",
      "Processing Record 1 of Set 7 | lannion\n",
      "Processing Record 2 of Set 7 | kovin\n",
      "Processing Record 3 of Set 7 | acajutla\n",
      "Processing Record 4 of Set 7 | tiarei\n",
      "Processing Record 5 of Set 7 | constitucion\n",
      "Processing Record 6 of Set 7 | yulara\n",
      "City not found. Skipping...\n",
      "Processing Record 7 of Set 7 | nacala\n",
      "Processing Record 8 of Set 7 | opuwo\n",
      "Processing Record 9 of Set 7 | escanaba\n",
      "Processing Record 10 of Set 7 | halden\n",
      "Processing Record 11 of Set 7 | urumqi\n",
      "Processing Record 12 of Set 7 | tekeli\n",
      "Processing Record 13 of Set 7 | namatanai\n",
      "Processing Record 14 of Set 7 | piacabucu\n",
      "Processing Record 15 of Set 7 | karratha\n",
      "Processing Record 16 of Set 7 | venado tuerto\n",
      "City not found. Skipping...\n",
      "Processing Record 17 of Set 7 | formoso do araguaia\n",
      "Processing Record 18 of Set 7 | druskininkai\n",
      "Processing Record 19 of Set 7 | nome\n",
      "Processing Record 20 of Set 7 | abilene\n",
      "Processing Record 21 of Set 7 | mlonggo\n",
      "Processing Record 22 of Set 7 | maxixe\n",
      "Processing Record 23 of Set 7 | iranshahr\n",
      "Processing Record 24 of Set 7 | cotonou\n",
      "Processing Record 25 of Set 7 | manta\n",
      "Processing Record 26 of Set 7 | tateyama\n",
      "City not found. Skipping...\n",
      "Processing Record 27 of Set 7 | camopi\n",
      "City not found. Skipping...\n",
      "Processing Record 28 of Set 7 | faya\n",
      "Processing Record 29 of Set 7 | belovo\n",
      "Processing Record 30 of Set 7 | farafenni\n",
      "Processing Record 31 of Set 7 | satana\n",
      "Processing Record 32 of Set 7 | bilibino\n",
      "Processing Record 33 of Set 7 | makakilo city\n",
      "Processing Record 34 of Set 7 | natalio\n",
      "City not found. Skipping...\n",
      "Processing Record 35 of Set 7 | bayir\n",
      "Processing Record 36 of Set 7 | rosarito\n",
      "Processing Record 37 of Set 7 | linhares\n",
      "City not found. Skipping...\n",
      "Processing Record 38 of Set 7 | kazar\n",
      "Processing Record 39 of Set 7 | guiren\n",
      "City not found. Skipping...\n",
      "Processing Record 40 of Set 7 | langarud\n",
      "Processing Record 41 of Set 7 | bonthe\n",
      "Processing Record 42 of Set 7 | linxia\n",
      "City not found. Skipping...\n",
      "Processing Record 43 of Set 7 | ajdabiya\n",
      "City not found. Skipping...\n",
      "Processing Record 44 of Set 7 | dandong\n",
      "Processing Record 45 of Set 7 | manbij\n",
      "Processing Record 46 of Set 7 | potosi\n",
      "Processing Record 47 of Set 7 | ecija\n",
      "Processing Record 48 of Set 7 | baghdad\n",
      "City not found. Skipping...\n",
      "Processing Record 49 of Set 7 | dunedin\n",
      "Processing Record 1 of Set 8 | alice springs\n",
      "Processing Record 2 of Set 8 | hualmay\n",
      "Processing Record 3 of Set 8 | sagana\n",
      "Processing Record 4 of Set 8 | half moon bay\n",
      "Processing Record 5 of Set 8 | dzaoudzi\n",
      "Processing Record 6 of Set 8 | krasnoye\n",
      "Processing Record 7 of Set 8 | delicias\n",
      "Processing Record 8 of Set 8 | cagayan de tawi-tawi\n",
      "Processing Record 9 of Set 8 | kungurtug\n",
      "Processing Record 10 of Set 8 | obo\n",
      "Processing Record 11 of Set 8 | abatskoye\n",
      "Processing Record 12 of Set 8 | shingu\n",
      "Processing Record 13 of Set 8 | vestmannaeyjar\n",
      "Processing Record 14 of Set 8 | aksarayskiy\n",
      "City not found. Skipping...\n",
      "Processing Record 15 of Set 8 | niamey\n",
      "Processing Record 16 of Set 8 | kentau\n",
      "City not found. Skipping...\n",
      "Processing Record 17 of Set 8 | ust-kan\n",
      "Processing Record 18 of Set 8 | chifeng\n",
      "Processing Record 19 of Set 8 | khani\n",
      "Processing Record 20 of Set 8 | mulki\n",
      "Processing Record 21 of Set 8 | maun\n",
      "Processing Record 22 of Set 8 | lokosovo\n"
     ]
    },
    {
     "name": "stdout",
     "output_type": "stream",
     "text": [
      "Processing Record 23 of Set 8 | romny\n",
      "Processing Record 24 of Set 8 | uyskoye\n",
      "Processing Record 25 of Set 8 | ramgarh\n",
      "Processing Record 26 of Set 8 | hokitika\n",
      "Processing Record 27 of Set 8 | eirunepe\n",
      "City not found. Skipping...\n",
      "Processing Record 28 of Set 8 | arkhara\n",
      "Processing Record 29 of Set 8 | nanticoke\n",
      "Processing Record 30 of Set 8 | gat\n",
      "Processing Record 31 of Set 8 | flinders\n",
      "Processing Record 32 of Set 8 | young\n",
      "Processing Record 33 of Set 8 | smithers\n",
      "Processing Record 34 of Set 8 | takahagi\n",
      "Processing Record 35 of Set 8 | danshui\n",
      "Processing Record 36 of Set 8 | vyritsa\n",
      "City not found. Skipping...\n",
      "City not found. Skipping...\n",
      "Processing Record 37 of Set 8 | tucurui\n",
      "Processing Record 38 of Set 8 | phichit\n",
      "Processing Record 39 of Set 8 | gizo\n",
      "Processing Record 40 of Set 8 | vostok\n",
      "Processing Record 41 of Set 8 | illapel\n",
      "Processing Record 42 of Set 8 | athabasca\n",
      "Processing Record 43 of Set 8 | beyneu\n",
      "City not found. Skipping...\n",
      "Processing Record 44 of Set 8 | termiz\n",
      "Processing Record 45 of Set 8 | artesia\n",
      "Processing Record 46 of Set 8 | sur\n",
      "Processing Record 47 of Set 8 | grand-santi\n",
      "Processing Record 48 of Set 8 | phan rang\n",
      "Processing Record 49 of Set 8 | kenora\n",
      "Processing Record 1 of Set 9 | george town\n",
      "Processing Record 2 of Set 9 | along\n",
      "City not found. Skipping...\n",
      "Processing Record 3 of Set 9 | payyannur\n",
      "Processing Record 4 of Set 9 | troitskoye\n",
      "Processing Record 5 of Set 9 | vila velha\n",
      "Processing Record 6 of Set 9 | opotiki\n",
      "Processing Record 7 of Set 9 | grand river south east\n",
      "Processing Record 8 of Set 9 | mananjary\n",
      "Processing Record 9 of Set 9 | nemuro\n",
      "Processing Record 10 of Set 9 | mys shmidta\n",
      "Processing Record 11 of Set 9 | sakakah\n",
      "Processing Record 12 of Set 9 | cockburn town\n",
      "Processing Record 13 of Set 9 | punta alta\n",
      "Processing Record 14 of Set 9 | benguela\n",
      "Processing Record 15 of Set 9 | pundaguitan\n",
      "Processing Record 16 of Set 9 | ust-koksa\n",
      "Processing Record 17 of Set 9 | jalu\n",
      "City not found. Skipping...\n",
      "Processing Record 18 of Set 9 | tabory\n",
      "Processing Record 19 of Set 9 | gamba\n",
      "Processing Record 20 of Set 9 | ormond beach\n",
      "Processing Record 21 of Set 9 | narsaq\n",
      "Processing Record 22 of Set 9 | sibolga\n",
      "Processing Record 23 of Set 9 | silifke\n",
      "Processing Record 24 of Set 9 | esperance\n",
      "Processing Record 25 of Set 9 | tarrega\n",
      "Processing Record 26 of Set 9 | thinadhoo\n",
      "Processing Record 27 of Set 9 | kurumkan\n",
      "Processing Record 28 of Set 9 | chor\n",
      "Processing Record 29 of Set 9 | parrita\n",
      "Processing Record 30 of Set 9 | orebro\n",
      "Processing Record 31 of Set 9 | victoria\n",
      "Processing Record 32 of Set 9 | kuito\n",
      "Processing Record 33 of Set 9 | constantine\n",
      "Processing Record 34 of Set 9 | butterworth\n",
      "Processing Record 35 of Set 9 | mogok\n",
      "Processing Record 36 of Set 9 | otradnoye\n",
      "Processing Record 37 of Set 9 | nanortalik\n",
      "Processing Record 38 of Set 9 | ust-ishim\n",
      "Processing Record 39 of Set 9 | olafsvik\n",
      "Processing Record 40 of Set 9 | sinnamary\n",
      "Processing Record 41 of Set 9 | leningradskiy\n",
      "Processing Record 42 of Set 9 | dawson creek\n",
      "Processing Record 43 of Set 9 | bogandinskiy\n",
      "Processing Record 44 of Set 9 | paka\n",
      "Processing Record 45 of Set 9 | kodinar\n",
      "Processing Record 46 of Set 9 | fort nelson\n",
      "Processing Record 47 of Set 9 | suez\n",
      "City not found. Skipping...\n",
      "Processing Record 48 of Set 9 | san juan\n",
      "Processing Record 49 of Set 9 | yaan\n",
      "Processing Record 1 of Set 10 | iwakuni\n",
      "Processing Record 2 of Set 10 | dali\n",
      "City not found. Skipping...\n",
      "Processing Record 3 of Set 10 | okhotsk\n",
      "Processing Record 4 of Set 10 | lazaro cardenas\n",
      "Processing Record 5 of Set 10 | pangnirtung\n",
      "Processing Record 6 of Set 10 | wahlern\n",
      "Processing Record 7 of Set 10 | beira\n",
      "Processing Record 8 of Set 10 | shaygino\n",
      "Processing Record 9 of Set 10 | vanimo\n",
      "Processing Record 10 of Set 10 | pathein\n",
      "Processing Record 11 of Set 10 | noumea\n",
      "Processing Record 12 of Set 10 | carauari\n",
      "Processing Record 13 of Set 10 | dudinka\n",
      "Processing Record 14 of Set 10 | kavieng\n",
      "Processing Record 15 of Set 10 | boa vista\n",
      "Processing Record 16 of Set 10 | shubarkuduk\n",
      "Processing Record 17 of Set 10 | jiaocheng\n",
      "Processing Record 18 of Set 10 | homnabad\n",
      "City not found. Skipping...\n",
      "Processing Record 19 of Set 10 | papar\n",
      "Processing Record 20 of Set 10 | katherine\n",
      "Processing Record 21 of Set 10 | macau\n",
      "Processing Record 22 of Set 10 | lodja\n",
      "Processing Record 23 of Set 10 | coihaique\n",
      "Processing Record 24 of Set 10 | micheweni\n",
      "Processing Record 25 of Set 10 | clarence town\n",
      "Processing Record 26 of Set 10 | tagab\n",
      "Processing Record 27 of Set 10 | matay\n",
      "Processing Record 28 of Set 10 | port-gentil\n",
      "Processing Record 29 of Set 10 | terrak\n",
      "Processing Record 30 of Set 10 | chepen\n",
      "Processing Record 31 of Set 10 | cidreira\n",
      "Processing Record 32 of Set 10 | buin\n",
      "Processing Record 33 of Set 10 | korla\n",
      "Processing Record 34 of Set 10 | abbeville\n",
      "Processing Record 35 of Set 10 | ambulu\n",
      "Processing Record 36 of Set 10 | biskamzha\n",
      "Processing Record 37 of Set 10 | borogontsy\n",
      "Processing Record 38 of Set 10 | iluppur\n",
      "Processing Record 39 of Set 10 | suntar\n",
      "Processing Record 40 of Set 10 | tshane\n",
      "Processing Record 41 of Set 10 | zhigalovo\n",
      "Processing Record 42 of Set 10 | severobaykalsk\n",
      "Processing Record 43 of Set 10 | ternate\n",
      "Processing Record 44 of Set 10 | bella union\n",
      "Processing Record 45 of Set 10 | bowen\n",
      "Processing Record 46 of Set 10 | weligama\n",
      "Processing Record 47 of Set 10 | hami\n",
      "Processing Record 48 of Set 10 | sabya\n",
      "Processing Record 49 of Set 10 | santa lucia\n",
      "Processing Record 1 of Set 11 | itarantim\n",
      "Processing Record 2 of Set 11 | krasnoselkup\n",
      "Processing Record 3 of Set 11 | marabba\n",
      "Processing Record 4 of Set 11 | saint-medard-en-jalles\n",
      "Processing Record 5 of Set 11 | kloulklubed\n",
      "Processing Record 6 of Set 11 | lerwick\n",
      "Processing Record 7 of Set 11 | waingapu\n",
      "Processing Record 8 of Set 11 | vestmanna\n",
      "Processing Record 9 of Set 11 | fairbanks\n",
      "Processing Record 10 of Set 11 | inta\n",
      "Processing Record 11 of Set 11 | dubbo\n",
      "Processing Record 12 of Set 11 | elizabeth city\n",
      "City not found. Skipping...\n",
      "Processing Record 13 of Set 11 | hobyo\n",
      "Processing Record 14 of Set 11 | bani walid\n",
      "Processing Record 15 of Set 11 | sitka\n",
      "Processing Record 16 of Set 11 | seidu\n",
      "City not found. Skipping...\n",
      "Processing Record 17 of Set 11 | balkhash\n",
      "Processing Record 18 of Set 11 | kiama\n",
      "City not found. Skipping...\n",
      "Processing Record 19 of Set 11 | richmond\n",
      "Processing Record 20 of Set 11 | potamia\n",
      "Processing Record 21 of Set 11 | barranca\n",
      "Processing Record 22 of Set 11 | sorong\n",
      "Processing Record 23 of Set 11 | lazarev\n",
      "Processing Record 24 of Set 11 | hirara\n",
      "Processing Record 25 of Set 11 | afua\n",
      "Processing Record 26 of Set 11 | biak\n",
      "Processing Record 27 of Set 11 | puerto cabezas\n",
      "Processing Record 28 of Set 11 | college\n",
      "Processing Record 29 of Set 11 | berlevag\n",
      "City not found. Skipping...\n",
      "Processing Record 30 of Set 11 | hailar\n",
      "Processing Record 31 of Set 11 | ubinskoye\n",
      "Processing Record 32 of Set 11 | dongsheng\n",
      "Processing Record 33 of Set 11 | kabompo\n",
      "Processing Record 34 of Set 11 | katsuura\n",
      "Processing Record 35 of Set 11 | mugango\n",
      "Processing Record 36 of Set 11 | moerai\n",
      "Processing Record 37 of Set 11 | padang\n",
      "Processing Record 38 of Set 11 | paz de ariporo\n",
      "Processing Record 39 of Set 11 | klyuchi\n",
      "Processing Record 40 of Set 11 | poum\n",
      "City not found. Skipping...\n",
      "Processing Record 41 of Set 11 | berezovyy\n",
      "Processing Record 42 of Set 11 | farmington\n",
      "Processing Record 43 of Set 11 | chabahar\n",
      "Processing Record 44 of Set 11 | boende\n",
      "Processing Record 45 of Set 11 | dhola\n",
      "City not found. Skipping...\n",
      "Processing Record 46 of Set 11 | kamienna gora\n",
      "Processing Record 47 of Set 11 | yakovlevka\n",
      "Processing Record 48 of Set 11 | tongliao\n",
      "City not found. Skipping...\n",
      "Processing Record 49 of Set 11 | tergnier\n",
      "Processing Record 1 of Set 12 | havre-saint-pierre\n",
      "Processing Record 2 of Set 12 | bac lieu\n",
      "Processing Record 3 of Set 12 | lagoa\n",
      "Processing Record 4 of Set 12 | mananara\n",
      "City not found. Skipping...\n",
      "Processing Record 5 of Set 12 | solwezi\n",
      "City not found. Skipping...\n",
      "Processing Record 6 of Set 12 | chaykovskiy\n",
      "Processing Record 7 of Set 12 | buraydah\n",
      "Processing Record 8 of Set 12 | ulladulla\n",
      "Processing Record 9 of Set 12 | nizhniy odes\n",
      "Processing Record 10 of Set 12 | kirakira\n",
      "Processing Record 11 of Set 12 | mitsamiouli\n",
      "Processing Record 12 of Set 12 | lata\n"
     ]
    },
    {
     "name": "stdout",
     "output_type": "stream",
     "text": [
      "Processing Record 13 of Set 12 | labuhan\n",
      "Processing Record 14 of Set 12 | mareeba\n",
      "City not found. Skipping...\n",
      "Processing Record 15 of Set 12 | sale\n",
      "Processing Record 16 of Set 12 | kenai\n",
      "Processing Record 17 of Set 12 | tomatlan\n",
      "City not found. Skipping...\n",
      "\n",
      "-----------------------------\n",
      "Data Retrieval Complete      \n",
      "-----------------------------\n"
     ]
    }
   ],
   "source": [
    "# set lists for the dataframe\n",
    "city_name = []\n",
    "lat = []\n",
    "lng = []\n",
    "max_temp = []\n",
    "humidity = []\n",
    "cloudiness = []\n",
    "wind_speed = []\n",
    "country = []\n",
    "date = []\n",
    "\n",
    "# set initial count quantities for organization\n",
    "record_count = 0\n",
    "set_count = 1\n",
    "\n",
    "print('''\n",
    "-----------------------------\n",
    "Beginning Data Retrieval     \n",
    "-----------------------------''')\n",
    "\n",
    "# loops for creating dataframe columns\n",
    "for city in cities:\n",
    "    try:\n",
    "        response = requests.get(query_url + city.replace(\" \",\"&\")).json()\n",
    "        lat.append(response['coord']['lat'])\n",
    "        lng.append(response['coord']['lon'])\n",
    "        max_temp.append(response['main']['temp_max'])\n",
    "        humidity.append(response['main']['humidity'])\n",
    "        cloudiness.append(response['clouds']['all'])\n",
    "        wind_speed.append(response['wind']['speed'])\n",
    "        country.append(response['sys']['country'])\n",
    "        date.append(response['dt'])\n",
    "        if record_count > 48:\n",
    "            record_count = 1\n",
    "            set_count += 1\n",
    "            city_name.append(city)\n",
    "        else:\n",
    "            record_count += 1\n",
    "            city_name.append(city)\n",
    "        print(f\"Processing Record {record_count} of Set {set_count} | {city}\")\n",
    "    except Exception:\n",
    "        print(\"City not found. Skipping...\")\n",
    "\n",
    "print('''\n",
    "-----------------------------\n",
    "Data Retrieval Complete      \n",
    "-----------------------------''')"
   ]
  },
  {
   "cell_type": "markdown",
   "metadata": {},
   "source": [
    "## Import API key\n",
    "### from api_keys import weather_api_key"
   ]
  },
  {
   "cell_type": "code",
   "execution_count": 49,
   "metadata": {},
   "outputs": [
    {
     "data": {
      "text/html": [
       "<div>\n",
       "<style scoped>\n",
       "    .dataframe tbody tr th:only-of-type {\n",
       "        vertical-align: middle;\n",
       "    }\n",
       "\n",
       "    .dataframe tbody tr th {\n",
       "        vertical-align: top;\n",
       "    }\n",
       "\n",
       "    .dataframe thead th {\n",
       "        text-align: right;\n",
       "    }\n",
       "</style>\n",
       "<table border=\"1\" class=\"dataframe\">\n",
       "  <thead>\n",
       "    <tr style=\"text-align: right;\">\n",
       "      <th></th>\n",
       "      <th>City</th>\n",
       "      <th>Latitude</th>\n",
       "      <th>Longitude</th>\n",
       "      <th>Max Temp</th>\n",
       "      <th>Humidity</th>\n",
       "      <th>Cloudiness</th>\n",
       "      <th>Wind Speed</th>\n",
       "      <th>Country</th>\n",
       "      <th>Date</th>\n",
       "    </tr>\n",
       "  </thead>\n",
       "  <tbody>\n",
       "    <tr>\n",
       "      <th>0</th>\n",
       "      <td>tiznit</td>\n",
       "      <td>29.5833</td>\n",
       "      <td>-9.5000</td>\n",
       "      <td>79.95</td>\n",
       "      <td>19</td>\n",
       "      <td>1</td>\n",
       "      <td>0.51</td>\n",
       "      <td>MA</td>\n",
       "      <td>1634462485</td>\n",
       "    </tr>\n",
       "    <tr>\n",
       "      <th>1</th>\n",
       "      <td>sokolo</td>\n",
       "      <td>14.7328</td>\n",
       "      <td>-6.1219</td>\n",
       "      <td>90.27</td>\n",
       "      <td>28</td>\n",
       "      <td>93</td>\n",
       "      <td>2.98</td>\n",
       "      <td>ML</td>\n",
       "      <td>1634462486</td>\n",
       "    </tr>\n",
       "    <tr>\n",
       "      <th>2</th>\n",
       "      <td>maldonado</td>\n",
       "      <td>-34.6667</td>\n",
       "      <td>-54.9167</td>\n",
       "      <td>47.23</td>\n",
       "      <td>76</td>\n",
       "      <td>0</td>\n",
       "      <td>4.72</td>\n",
       "      <td>UY</td>\n",
       "      <td>1634462486</td>\n",
       "    </tr>\n",
       "    <tr>\n",
       "      <th>3</th>\n",
       "      <td>kalabo</td>\n",
       "      <td>-14.9700</td>\n",
       "      <td>22.6814</td>\n",
       "      <td>94.37</td>\n",
       "      <td>25</td>\n",
       "      <td>5</td>\n",
       "      <td>7.40</td>\n",
       "      <td>ZM</td>\n",
       "      <td>1634462487</td>\n",
       "    </tr>\n",
       "    <tr>\n",
       "      <th>4</th>\n",
       "      <td>ushuaia</td>\n",
       "      <td>-54.8000</td>\n",
       "      <td>-68.3000</td>\n",
       "      <td>33.46</td>\n",
       "      <td>86</td>\n",
       "      <td>75</td>\n",
       "      <td>12.66</td>\n",
       "      <td>AR</td>\n",
       "      <td>1634462250</td>\n",
       "    </tr>\n",
       "    <tr>\n",
       "      <th>...</th>\n",
       "      <td>...</td>\n",
       "      <td>...</td>\n",
       "      <td>...</td>\n",
       "      <td>...</td>\n",
       "      <td>...</td>\n",
       "      <td>...</td>\n",
       "      <td>...</td>\n",
       "      <td>...</td>\n",
       "      <td>...</td>\n",
       "    </tr>\n",
       "    <tr>\n",
       "      <th>551</th>\n",
       "      <td>labuhan</td>\n",
       "      <td>-6.8844</td>\n",
       "      <td>112.2051</td>\n",
       "      <td>87.37</td>\n",
       "      <td>64</td>\n",
       "      <td>75</td>\n",
       "      <td>13.91</td>\n",
       "      <td>ID</td>\n",
       "      <td>1634462734</td>\n",
       "    </tr>\n",
       "    <tr>\n",
       "      <th>552</th>\n",
       "      <td>mareeba</td>\n",
       "      <td>-17.0000</td>\n",
       "      <td>145.4333</td>\n",
       "      <td>76.48</td>\n",
       "      <td>83</td>\n",
       "      <td>62</td>\n",
       "      <td>6.53</td>\n",
       "      <td>AU</td>\n",
       "      <td>1634462734</td>\n",
       "    </tr>\n",
       "    <tr>\n",
       "      <th>553</th>\n",
       "      <td>sale</td>\n",
       "      <td>34.0389</td>\n",
       "      <td>-6.8166</td>\n",
       "      <td>71.62</td>\n",
       "      <td>94</td>\n",
       "      <td>100</td>\n",
       "      <td>0.00</td>\n",
       "      <td>MA</td>\n",
       "      <td>1634462533</td>\n",
       "    </tr>\n",
       "    <tr>\n",
       "      <th>554</th>\n",
       "      <td>kenai</td>\n",
       "      <td>60.5544</td>\n",
       "      <td>-151.2583</td>\n",
       "      <td>34.14</td>\n",
       "      <td>92</td>\n",
       "      <td>90</td>\n",
       "      <td>8.05</td>\n",
       "      <td>US</td>\n",
       "      <td>1634462735</td>\n",
       "    </tr>\n",
       "    <tr>\n",
       "      <th>555</th>\n",
       "      <td>tomatlan</td>\n",
       "      <td>19.9333</td>\n",
       "      <td>-105.2500</td>\n",
       "      <td>74.10</td>\n",
       "      <td>96</td>\n",
       "      <td>8</td>\n",
       "      <td>2.82</td>\n",
       "      <td>MX</td>\n",
       "      <td>1634462736</td>\n",
       "    </tr>\n",
       "  </tbody>\n",
       "</table>\n",
       "<p>556 rows × 9 columns</p>\n",
       "</div>"
      ],
      "text/plain": [
       "          City  Latitude  Longitude  Max Temp  Humidity  Cloudiness  \\\n",
       "0       tiznit   29.5833    -9.5000     79.95        19           1   \n",
       "1       sokolo   14.7328    -6.1219     90.27        28          93   \n",
       "2    maldonado  -34.6667   -54.9167     47.23        76           0   \n",
       "3       kalabo  -14.9700    22.6814     94.37        25           5   \n",
       "4      ushuaia  -54.8000   -68.3000     33.46        86          75   \n",
       "..         ...       ...        ...       ...       ...         ...   \n",
       "551    labuhan   -6.8844   112.2051     87.37        64          75   \n",
       "552    mareeba  -17.0000   145.4333     76.48        83          62   \n",
       "553       sale   34.0389    -6.8166     71.62        94         100   \n",
       "554      kenai   60.5544  -151.2583     34.14        92          90   \n",
       "555   tomatlan   19.9333  -105.2500     74.10        96           8   \n",
       "\n",
       "     Wind Speed Country        Date  \n",
       "0          0.51      MA  1634462485  \n",
       "1          2.98      ML  1634462486  \n",
       "2          4.72      UY  1634462486  \n",
       "3          7.40      ZM  1634462487  \n",
       "4         12.66      AR  1634462250  \n",
       "..          ...     ...         ...  \n",
       "551       13.91      ID  1634462734  \n",
       "552        6.53      AU  1634462734  \n",
       "553        0.00      MA  1634462533  \n",
       "554        8.05      US  1634462735  \n",
       "555        2.82      MX  1634462736  \n",
       "\n",
       "[556 rows x 9 columns]"
      ]
     },
     "execution_count": 49,
     "metadata": {},
     "output_type": "execute_result"
    }
   ],
   "source": [
    "# create a dictionary for establishing dataframe\n",
    "weather_dict = {\n",
    "    \"City\":city_name,\n",
    "    \"Latitude\":lat,\n",
    "    \"Longitude\":lng,\n",
    "    \"Max Temp\":max_temp,\n",
    "    \"Humidity\":humidity,\n",
    "    \"Cloudiness\":cloudiness,\n",
    "    \"Wind Speed\":wind_speed,\n",
    "    \"Country\":country,\n",
    "    \"Date\":date,\n",
    "}\n",
    "\n",
    "# establish dataframe\n",
    "weather_df = pd.DataFrame(weather_dict)\n",
    "weather_df"
   ]
  },
  {
   "cell_type": "code",
   "execution_count": 50,
   "metadata": {},
   "outputs": [],
   "source": [
    "# Export the City_Data into a csv\n",
    "weather_df.to_csv(\"raw_cities.csv\",encoding=\"utf-8\",index=False)"
   ]
  },
  {
   "cell_type": "code",
   "execution_count": 51,
   "metadata": {},
   "outputs": [],
   "source": [
    "# clean the df to remove null cities\n",
    "weather_df = weather_df.dropna()"
   ]
  },
  {
   "cell_type": "code",
   "execution_count": 52,
   "metadata": {},
   "outputs": [
    {
     "data": {
      "text/plain": [
       "100"
      ]
     },
     "execution_count": 52,
     "metadata": {},
     "output_type": "execute_result"
    }
   ],
   "source": [
    "# Inspect the data and remove the cities where the humidity > 100%.\n",
    "weather_df['Humidity'].max()"
   ]
  },
  {
   "cell_type": "code",
   "execution_count": 53,
   "metadata": {},
   "outputs": [
    {
     "data": {
      "text/html": [
       "<div>\n",
       "<style scoped>\n",
       "    .dataframe tbody tr th:only-of-type {\n",
       "        vertical-align: middle;\n",
       "    }\n",
       "\n",
       "    .dataframe tbody tr th {\n",
       "        vertical-align: top;\n",
       "    }\n",
       "\n",
       "    .dataframe thead th {\n",
       "        text-align: right;\n",
       "    }\n",
       "</style>\n",
       "<table border=\"1\" class=\"dataframe\">\n",
       "  <thead>\n",
       "    <tr style=\"text-align: right;\">\n",
       "      <th></th>\n",
       "      <th>Humidity</th>\n",
       "    </tr>\n",
       "  </thead>\n",
       "  <tbody>\n",
       "    <tr>\n",
       "      <th>count</th>\n",
       "      <td>556.000000</td>\n",
       "    </tr>\n",
       "    <tr>\n",
       "      <th>mean</th>\n",
       "      <td>67.973022</td>\n",
       "    </tr>\n",
       "    <tr>\n",
       "      <th>std</th>\n",
       "      <td>22.520725</td>\n",
       "    </tr>\n",
       "    <tr>\n",
       "      <th>min</th>\n",
       "      <td>7.000000</td>\n",
       "    </tr>\n",
       "    <tr>\n",
       "      <th>25%</th>\n",
       "      <td>55.000000</td>\n",
       "    </tr>\n",
       "    <tr>\n",
       "      <th>50%</th>\n",
       "      <td>73.000000</td>\n",
       "    </tr>\n",
       "    <tr>\n",
       "      <th>75%</th>\n",
       "      <td>85.000000</td>\n",
       "    </tr>\n",
       "    <tr>\n",
       "      <th>max</th>\n",
       "      <td>100.000000</td>\n",
       "    </tr>\n",
       "  </tbody>\n",
       "</table>\n",
       "</div>"
      ],
      "text/plain": [
       "         Humidity\n",
       "count  556.000000\n",
       "mean    67.973022\n",
       "std     22.520725\n",
       "min      7.000000\n",
       "25%     55.000000\n",
       "50%     73.000000\n",
       "75%     85.000000\n",
       "max    100.000000"
      ]
     },
     "execution_count": 53,
     "metadata": {},
     "output_type": "execute_result"
    }
   ],
   "source": [
    "# And to double check.\n",
    "# Inspect the data and remove the cities where the humidity > 100%.\n",
    "weather_df[[\"Humidity\"]].describe()"
   ]
  },
  {
   "cell_type": "code",
   "execution_count": 54,
   "metadata": {},
   "outputs": [],
   "source": [
    "# Make a copy as instructed\n",
    "weather_df.to_csv(\"clean_city_data.csv\", encoding=\"utf-8\")"
   ]
  },
  {
   "cell_type": "code",
   "execution_count": 55,
   "metadata": {},
   "outputs": [],
   "source": [
    "#Plotting the Data\n",
    "#Use proper labeling of the plots using plot titles (including date of analysis) and axes labels.\n",
    "#Save the plotted figures as .pngs."
   ]
  },
  {
   "cell_type": "markdown",
   "metadata": {},
   "source": [
    "## Latitude vs Temperature Plot"
   ]
  },
  {
   "cell_type": "code",
   "execution_count": 81,
   "metadata": {},
   "outputs": [
    {
     "data": {
      "image/png": "[encoded data removed]",
      "text/plain": [
       "<Figure size 576x576 with 1 Axes>"
      ]
     },
     "metadata": {
      "needs_background": "light"
     },
     "output_type": "display_data"
    }
   ],
   "source": [
    "# Create a scatter plot which compares latitude to temperature\n",
    "weather_df.plot(kind=\"scatter\", x=\"Latitude\", y=\"Max Temp\", grid=True, figsize=(8,8),\n",
    "              title=\"City Latitude vs Max Temperature\")\n",
    "plt.savefig(\"lat_temp.png\")\n",
    "plt.show()"
   ]
  },
  {
   "cell_type": "markdown",
   "metadata": {},
   "source": [
    "## Latitude vs. Humidity Plot"
   ]
  },
  {
   "cell_type": "code",
   "execution_count": 82,
   "metadata": {},
   "outputs": [
    {
     "data": {
      "image/png": "[encoded data removed]",
      "text/plain": [
       "<Figure size 576x576 with 1 Axes>"
      ]
     },
     "metadata": {
      "needs_background": "light"
     },
     "output_type": "display_data"
    }
   ],
   "source": [
    "# Create a scatter plot which compares latitude to humidity\n",
    "weather_df.plot(kind=\"scatter\", x=\"Latitude\", y=\"Humidity\", grid=True, figsize=(8,8),\n",
    "              title=\"City Latitude vs Humidity\")\n",
    "plt.savefig(\"lat_hum.png\")\n",
    "plt.show()"
   ]
  },
  {
   "cell_type": "markdown",
   "metadata": {},
   "source": [
    "## Latitude vs. Cloudiness Plot"
   ]
  },
  {
   "cell_type": "markdown",
   "metadata": {},
   "source": []
  },
  {
   "cell_type": "code",
   "execution_count": 83,
   "metadata": {},
   "outputs": [
    {
     "data": {
      "image/png": "[encoded data removed]",
      "text/plain": [
       "<Figure size 576x576 with 1 Axes>"
      ]
     },
     "metadata": {
      "needs_background": "light"
     },
     "output_type": "display_data"
    }
   ],
   "source": [
    "weather_df.plot(kind=\"scatter\", x=\"Latitude\", y=\"Cloudiness\", grid=True, figsize=(8,8),\n",
    "              title=\"City Latitude vs Cloudiness\")\n",
    "plt.savefig(\"lat_cloud.png\")\n",
    "plt.show()"
   ]
  },
  {
   "cell_type": "markdown",
   "metadata": {},
   "source": [
    "## Latitude vs. Wind Speed Plot"
   ]
  },
  {
   "cell_type": "code",
   "execution_count": 227,
   "metadata": {},
   "outputs": [
    {
     "data": {
      "image/png": "[encoded data removed]",
      "text/plain": [
       "<Figure size 576x576 with 1 Axes>"
      ]
     },
     "metadata": {
      "needs_background": "light"
     },
     "output_type": "display_data"
    }
   ],
   "source": [
    "weather_df.plot(kind=\"scatter\", x=\"Latitude\", y=\"Wind Speed\", grid=True, figsize=(8,8),\n",
    "              title=\"City Latitude vs Wind Speed\")\n",
    "plt.savefig(\"lat_speed.png\")\n",
    "plt.show()"
   ]
  },
  {
   "cell_type": "markdown",
   "metadata": {},
   "source": [
    "### Perform API Calls\n",
    "* Perform a weather check on each city using a series of successive API calls.\n",
    "* Include a print log of each city as it'sbeing processed (with the city number and city name).\n"
   ]
  },
  {
   "cell_type": "code",
   "execution_count": 166,
   "metadata": {},
   "outputs": [
    {
     "data": {
      "text/html": [
       "<div>\n",
       "<style scoped>\n",
       "    .dataframe tbody tr th:only-of-type {\n",
       "        vertical-align: middle;\n",
       "    }\n",
       "\n",
       "    .dataframe tbody tr th {\n",
       "        vertical-align: top;\n",
       "    }\n",
       "\n",
       "    .dataframe thead th {\n",
       "        text-align: right;\n",
       "    }\n",
       "</style>\n",
       "<table border=\"1\" class=\"dataframe\">\n",
       "  <thead>\n",
       "    <tr style=\"text-align: right;\">\n",
       "      <th></th>\n",
       "      <th>City</th>\n",
       "      <th>Latitude</th>\n",
       "      <th>Longitude</th>\n",
       "      <th>Max Temp</th>\n",
       "      <th>Humidity</th>\n",
       "      <th>Cloudiness</th>\n",
       "      <th>Wind Speed</th>\n",
       "      <th>Country</th>\n",
       "      <th>Date</th>\n",
       "    </tr>\n",
       "  </thead>\n",
       "  <tbody>\n",
       "    <tr>\n",
       "      <th>0</th>\n",
       "      <td>tiznit</td>\n",
       "      <td>29.5833</td>\n",
       "      <td>-9.5000</td>\n",
       "      <td>79.95</td>\n",
       "      <td>19</td>\n",
       "      <td>1</td>\n",
       "      <td>0.51</td>\n",
       "      <td>MA</td>\n",
       "      <td>1634462485</td>\n",
       "    </tr>\n",
       "    <tr>\n",
       "      <th>1</th>\n",
       "      <td>sokolo</td>\n",
       "      <td>14.7328</td>\n",
       "      <td>-6.1219</td>\n",
       "      <td>90.27</td>\n",
       "      <td>28</td>\n",
       "      <td>93</td>\n",
       "      <td>2.98</td>\n",
       "      <td>ML</td>\n",
       "      <td>1634462486</td>\n",
       "    </tr>\n",
       "    <tr>\n",
       "      <th>7</th>\n",
       "      <td>san policarpo</td>\n",
       "      <td>13.3034</td>\n",
       "      <td>-4.8956</td>\n",
       "      <td>88.30</td>\n",
       "      <td>39</td>\n",
       "      <td>27</td>\n",
       "      <td>6.49</td>\n",
       "      <td>ML</td>\n",
       "      <td>1634462302</td>\n",
       "    </tr>\n",
       "    <tr>\n",
       "      <th>9</th>\n",
       "      <td>lompoc</td>\n",
       "      <td>34.6391</td>\n",
       "      <td>-120.4579</td>\n",
       "      <td>62.53</td>\n",
       "      <td>47</td>\n",
       "      <td>1</td>\n",
       "      <td>6.91</td>\n",
       "      <td>US</td>\n",
       "      <td>1634462490</td>\n",
       "    </tr>\n",
       "    <tr>\n",
       "      <th>11</th>\n",
       "      <td>pandan niog</td>\n",
       "      <td>14.0453</td>\n",
       "      <td>124.1694</td>\n",
       "      <td>80.98</td>\n",
       "      <td>85</td>\n",
       "      <td>100</td>\n",
       "      <td>7.99</td>\n",
       "      <td>PH</td>\n",
       "      <td>1634462490</td>\n",
       "    </tr>\n",
       "    <tr>\n",
       "      <th>...</th>\n",
       "      <td>...</td>\n",
       "      <td>...</td>\n",
       "      <td>...</td>\n",
       "      <td>...</td>\n",
       "      <td>...</td>\n",
       "      <td>...</td>\n",
       "      <td>...</td>\n",
       "      <td>...</td>\n",
       "      <td>...</td>\n",
       "    </tr>\n",
       "    <tr>\n",
       "      <th>547</th>\n",
       "      <td>nizhniy odes</td>\n",
       "      <td>45.3926</td>\n",
       "      <td>39.2364</td>\n",
       "      <td>68.99</td>\n",
       "      <td>52</td>\n",
       "      <td>100</td>\n",
       "      <td>5.57</td>\n",
       "      <td>RU</td>\n",
       "      <td>1634462732</td>\n",
       "    </tr>\n",
       "    <tr>\n",
       "      <th>550</th>\n",
       "      <td>lata</td>\n",
       "      <td>40.1629</td>\n",
       "      <td>-8.3327</td>\n",
       "      <td>68.92</td>\n",
       "      <td>95</td>\n",
       "      <td>100</td>\n",
       "      <td>2.44</td>\n",
       "      <td>PT</td>\n",
       "      <td>1634462734</td>\n",
       "    </tr>\n",
       "    <tr>\n",
       "      <th>553</th>\n",
       "      <td>sale</td>\n",
       "      <td>34.0389</td>\n",
       "      <td>-6.8166</td>\n",
       "      <td>71.62</td>\n",
       "      <td>94</td>\n",
       "      <td>100</td>\n",
       "      <td>0.00</td>\n",
       "      <td>MA</td>\n",
       "      <td>1634462533</td>\n",
       "    </tr>\n",
       "    <tr>\n",
       "      <th>554</th>\n",
       "      <td>kenai</td>\n",
       "      <td>60.5544</td>\n",
       "      <td>-151.2583</td>\n",
       "      <td>34.14</td>\n",
       "      <td>92</td>\n",
       "      <td>90</td>\n",
       "      <td>8.05</td>\n",
       "      <td>US</td>\n",
       "      <td>1634462735</td>\n",
       "    </tr>\n",
       "    <tr>\n",
       "      <th>555</th>\n",
       "      <td>tomatlan</td>\n",
       "      <td>19.9333</td>\n",
       "      <td>-105.2500</td>\n",
       "      <td>74.10</td>\n",
       "      <td>96</td>\n",
       "      <td>8</td>\n",
       "      <td>2.82</td>\n",
       "      <td>MX</td>\n",
       "      <td>1634462736</td>\n",
       "    </tr>\n",
       "  </tbody>\n",
       "</table>\n",
       "<p>398 rows × 9 columns</p>\n",
       "</div>"
      ],
      "text/plain": [
       "              City  Latitude  Longitude  Max Temp  Humidity  Cloudiness  \\\n",
       "0           tiznit   29.5833    -9.5000     79.95        19           1   \n",
       "1           sokolo   14.7328    -6.1219     90.27        28          93   \n",
       "7    san policarpo   13.3034    -4.8956     88.30        39          27   \n",
       "9           lompoc   34.6391  -120.4579     62.53        47           1   \n",
       "11     pandan niog   14.0453   124.1694     80.98        85         100   \n",
       "..             ...       ...        ...       ...       ...         ...   \n",
       "547   nizhniy odes   45.3926    39.2364     68.99        52         100   \n",
       "550           lata   40.1629    -8.3327     68.92        95         100   \n",
       "553           sale   34.0389    -6.8166     71.62        94         100   \n",
       "554          kenai   60.5544  -151.2583     34.14        92          90   \n",
       "555       tomatlan   19.9333  -105.2500     74.10        96           8   \n",
       "\n",
       "     Wind Speed Country        Date  \n",
       "0          0.51      MA  1634462485  \n",
       "1          2.98      ML  1634462486  \n",
       "7          6.49      ML  1634462302  \n",
       "9          6.91      US  1634462490  \n",
       "11         7.99      PH  1634462490  \n",
       "..          ...     ...         ...  \n",
       "547        5.57      RU  1634462732  \n",
       "550        2.44      PT  1634462734  \n",
       "553        0.00      MA  1634462533  \n",
       "554        8.05      US  1634462735  \n",
       "555        2.82      MX  1634462736  \n",
       "\n",
       "[398 rows x 9 columns]"
      ]
     },
     "execution_count": 166,
     "metadata": {},
     "output_type": "execute_result"
    }
   ],
   "source": [
    "north_weather_df = weather_df[weather_df['Latitude'] > 0]\n",
    "north_weather_df"
   ]
  },
  {
   "cell_type": "code",
   "execution_count": 167,
   "metadata": {},
   "outputs": [
    {
     "data": {
      "text/html": [
       "<div>\n",
       "<style scoped>\n",
       "    .dataframe tbody tr th:only-of-type {\n",
       "        vertical-align: middle;\n",
       "    }\n",
       "\n",
       "    .dataframe tbody tr th {\n",
       "        vertical-align: top;\n",
       "    }\n",
       "\n",
       "    .dataframe thead th {\n",
       "        text-align: right;\n",
       "    }\n",
       "</style>\n",
       "<table border=\"1\" class=\"dataframe\">\n",
       "  <thead>\n",
       "    <tr style=\"text-align: right;\">\n",
       "      <th></th>\n",
       "      <th>City</th>\n",
       "      <th>Latitude</th>\n",
       "      <th>Longitude</th>\n",
       "      <th>Max Temp</th>\n",
       "      <th>Humidity</th>\n",
       "      <th>Cloudiness</th>\n",
       "      <th>Wind Speed</th>\n",
       "      <th>Country</th>\n",
       "      <th>Date</th>\n",
       "    </tr>\n",
       "  </thead>\n",
       "  <tbody>\n",
       "    <tr>\n",
       "      <th>2</th>\n",
       "      <td>maldonado</td>\n",
       "      <td>-34.6667</td>\n",
       "      <td>-54.9167</td>\n",
       "      <td>47.23</td>\n",
       "      <td>76</td>\n",
       "      <td>0</td>\n",
       "      <td>4.72</td>\n",
       "      <td>UY</td>\n",
       "      <td>1634462486</td>\n",
       "    </tr>\n",
       "    <tr>\n",
       "      <th>3</th>\n",
       "      <td>kalabo</td>\n",
       "      <td>-14.9700</td>\n",
       "      <td>22.6814</td>\n",
       "      <td>94.37</td>\n",
       "      <td>25</td>\n",
       "      <td>5</td>\n",
       "      <td>7.40</td>\n",
       "      <td>ZM</td>\n",
       "      <td>1634462487</td>\n",
       "    </tr>\n",
       "    <tr>\n",
       "      <th>4</th>\n",
       "      <td>ushuaia</td>\n",
       "      <td>-54.8000</td>\n",
       "      <td>-68.3000</td>\n",
       "      <td>33.46</td>\n",
       "      <td>86</td>\n",
       "      <td>75</td>\n",
       "      <td>12.66</td>\n",
       "      <td>AR</td>\n",
       "      <td>1634462250</td>\n",
       "    </tr>\n",
       "    <tr>\n",
       "      <th>5</th>\n",
       "      <td>touros</td>\n",
       "      <td>-5.1989</td>\n",
       "      <td>-35.4608</td>\n",
       "      <td>74.30</td>\n",
       "      <td>83</td>\n",
       "      <td>40</td>\n",
       "      <td>13.89</td>\n",
       "      <td>BR</td>\n",
       "      <td>1634462487</td>\n",
       "    </tr>\n",
       "    <tr>\n",
       "      <th>6</th>\n",
       "      <td>rikitea</td>\n",
       "      <td>-23.1203</td>\n",
       "      <td>-134.9692</td>\n",
       "      <td>75.06</td>\n",
       "      <td>75</td>\n",
       "      <td>7</td>\n",
       "      <td>14.20</td>\n",
       "      <td>PF</td>\n",
       "      <td>1634462386</td>\n",
       "    </tr>\n",
       "    <tr>\n",
       "      <th>...</th>\n",
       "      <td>...</td>\n",
       "      <td>...</td>\n",
       "      <td>...</td>\n",
       "      <td>...</td>\n",
       "      <td>...</td>\n",
       "      <td>...</td>\n",
       "      <td>...</td>\n",
       "      <td>...</td>\n",
       "      <td>...</td>\n",
       "    </tr>\n",
       "    <tr>\n",
       "      <th>546</th>\n",
       "      <td>ulladulla</td>\n",
       "      <td>-35.3500</td>\n",
       "      <td>150.4667</td>\n",
       "      <td>58.10</td>\n",
       "      <td>72</td>\n",
       "      <td>68</td>\n",
       "      <td>6.91</td>\n",
       "      <td>AU</td>\n",
       "      <td>1634462726</td>\n",
       "    </tr>\n",
       "    <tr>\n",
       "      <th>548</th>\n",
       "      <td>kirakira</td>\n",
       "      <td>-10.4544</td>\n",
       "      <td>161.9205</td>\n",
       "      <td>80.10</td>\n",
       "      <td>81</td>\n",
       "      <td>39</td>\n",
       "      <td>3.20</td>\n",
       "      <td>SB</td>\n",
       "      <td>1634462733</td>\n",
       "    </tr>\n",
       "    <tr>\n",
       "      <th>549</th>\n",
       "      <td>mitsamiouli</td>\n",
       "      <td>-11.3847</td>\n",
       "      <td>43.2844</td>\n",
       "      <td>86.29</td>\n",
       "      <td>54</td>\n",
       "      <td>20</td>\n",
       "      <td>28.77</td>\n",
       "      <td>KM</td>\n",
       "      <td>1634462733</td>\n",
       "    </tr>\n",
       "    <tr>\n",
       "      <th>551</th>\n",
       "      <td>labuhan</td>\n",
       "      <td>-6.8844</td>\n",
       "      <td>112.2051</td>\n",
       "      <td>87.37</td>\n",
       "      <td>64</td>\n",
       "      <td>75</td>\n",
       "      <td>13.91</td>\n",
       "      <td>ID</td>\n",
       "      <td>1634462734</td>\n",
       "    </tr>\n",
       "    <tr>\n",
       "      <th>552</th>\n",
       "      <td>mareeba</td>\n",
       "      <td>-17.0000</td>\n",
       "      <td>145.4333</td>\n",
       "      <td>76.48</td>\n",
       "      <td>83</td>\n",
       "      <td>62</td>\n",
       "      <td>6.53</td>\n",
       "      <td>AU</td>\n",
       "      <td>1634462734</td>\n",
       "    </tr>\n",
       "  </tbody>\n",
       "</table>\n",
       "<p>158 rows × 9 columns</p>\n",
       "</div>"
      ],
      "text/plain": [
       "            City  Latitude  Longitude  Max Temp  Humidity  Cloudiness  \\\n",
       "2      maldonado  -34.6667   -54.9167     47.23        76           0   \n",
       "3         kalabo  -14.9700    22.6814     94.37        25           5   \n",
       "4        ushuaia  -54.8000   -68.3000     33.46        86          75   \n",
       "5         touros   -5.1989   -35.4608     74.30        83          40   \n",
       "6        rikitea  -23.1203  -134.9692     75.06        75           7   \n",
       "..           ...       ...        ...       ...       ...         ...   \n",
       "546    ulladulla  -35.3500   150.4667     58.10        72          68   \n",
       "548     kirakira  -10.4544   161.9205     80.10        81          39   \n",
       "549  mitsamiouli  -11.3847    43.2844     86.29        54          20   \n",
       "551      labuhan   -6.8844   112.2051     87.37        64          75   \n",
       "552      mareeba  -17.0000   145.4333     76.48        83          62   \n",
       "\n",
       "     Wind Speed Country        Date  \n",
       "2          4.72      UY  1634462486  \n",
       "3          7.40      ZM  1634462487  \n",
       "4         12.66      AR  1634462250  \n",
       "5         13.89      BR  1634462487  \n",
       "6         14.20      PF  1634462386  \n",
       "..          ...     ...         ...  \n",
       "546        6.91      AU  1634462726  \n",
       "548        3.20      SB  1634462733  \n",
       "549       28.77      KM  1634462733  \n",
       "551       13.91      ID  1634462734  \n",
       "552        6.53      AU  1634462734  \n",
       "\n",
       "[158 rows x 9 columns]"
      ]
     },
     "execution_count": 167,
     "metadata": {},
     "output_type": "execute_result"
    }
   ],
   "source": [
    "south_weather_df = weather_df[weather_df['Latitude'] < 0]\n",
    "south_weather_df"
   ]
  },
  {
   "cell_type": "code",
   "execution_count": 185,
   "metadata": {},
   "outputs": [
    {
     "data": {
      "image/png": "[encoded data removed]",
      "text/plain": [
       "<Figure size 432x288 with 1 Axes>"
      ]
     },
     "metadata": {
      "needs_background": "light"
     },
     "output_type": "display_data"
    }
   ],
   "source": [
    "x_values = north_weather_df[\"Latitude\"]\n",
    "y_values = north_weather_df[\"Max Temp\"]\n",
    "plt.scatter(x_values,y_values)\n",
    "plt.xlabel:('Latitude')\n",
    "plt.ylabel:('Temperature')\n",
    "plt.show()"
   ]
  },
  {
   "cell_type": "code",
   "execution_count": 186,
   "metadata": {},
   "outputs": [
    {
     "name": "stdout",
     "output_type": "stream",
     "text": [
      "0      67.127233\n",
      "1      81.277614\n",
      "7      82.639626\n",
      "9      62.309785\n",
      "11     81.932702\n",
      "         ...    \n",
      "547    52.063253\n",
      "550    57.046402\n",
      "553    62.881689\n",
      "554    37.616248\n",
      "555    76.322289\n",
      "Name: Latitude, Length: 398, dtype: float64\n"
     ]
    }
   ],
   "source": [
    "# Perform a linear regression on temperature vs. north latitude\n",
    "(slope, intercept, rvalue, pvalue, stderr) = stats.linregress(x_values, y_values)\n",
    "\n",
    "# Get regression values\n",
    "regress_values = x_values * slope + intercept\n",
    "print(regress_values)"
   ]
  },
  {
   "cell_type": "code",
   "execution_count": 187,
   "metadata": {},
   "outputs": [
    {
     "name": "stdout",
     "output_type": "stream",
     "text": [
      "y = -0.95x +95.32\n"
     ]
    }
   ],
   "source": [
    "# Create line equation string\n",
    "line_eq = \"y = \" + str(round(slope,2)) + \"x +\" + str(round(intercept,2))\n",
    "print(line_eq)"
   ]
  },
  {
   "cell_type": "code",
   "execution_count": 188,
   "metadata": {},
   "outputs": [
    {
     "data": {
      "text/plain": [
       "<matplotlib.collections.PathCollection at 0x18496d04d30>"
      ]
     },
     "execution_count": 188,
     "metadata": {},
     "output_type": "execute_result"
    },
    {
     "data": {
      "image/png": "[encoded data removed]",
      "text/plain": [
       "<Figure size 432x288 with 1 Axes>"
      ]
     },
     "metadata": {
      "needs_background": "light"
     },
     "output_type": "display_data"
    }
   ],
   "source": [
    "x_values = north_weather_df[\"Latitude\"]\n",
    "y_values = north_weather_df[\"Max Temp\"]\n",
    "plt.scatter(x_values,y_values)"
   ]
  },
  {
   "cell_type": "markdown",
   "metadata": {},
   "source": [
    "#### Linear Regression\n",
    "#### Northern Hemisphere - Max Temp vs. Latitude Linear Regression"
   ]
  },
  {
   "cell_type": "code",
   "execution_count": 189,
   "metadata": {},
   "outputs": [
    {
     "name": "stdout",
     "output_type": "stream",
     "text": [
      "The r-squared is: 0.7524231223483774\n"
     ]
    },
    {
     "data": {
      "image/png": "[encoded data removed]",
      "text/plain": [
       "<Figure size 432x288 with 1 Axes>"
      ]
     },
     "metadata": {
      "needs_background": "light"
     },
     "output_type": "display_data"
    }
   ],
   "source": [
    "plt.scatter(x_values,y_values)\n",
    "plt.plot(x_values, regress_values, \"r-\")\n",
    "\n",
    "plt.xlabel:'Latitude'\n",
    "plt.ylabel:'Temperature'\n",
    "plt.annotate(line_eq,(10,15),fontsize=15,color=\"red\")\n",
    "\n",
    "print(f\"The r-squared is: {rvalue**2}\")\n",
    "plt.savefig(\"north_lat_temp.png\")\n",
    "plt.show()"
   ]
  },
  {
   "cell_type": "code",
   "execution_count": 179,
   "metadata": {},
   "outputs": [
    {
     "data": {
      "image/png": "[encoded data removed]",
      "text/plain": [
       "<Figure size 432x288 with 1 Axes>"
      ]
     },
     "metadata": {
      "needs_background": "light"
     },
     "output_type": "display_data"
    }
   ],
   "source": [
    "# South hemisphere\n",
    "x_values = south_weather_df[\"Latitude\"]\n",
    "y_values = south_weather_df[\"Max Temp\"]\n",
    "plt.scatter(x_values,y_values)\n",
    "plt.xlabel:('Latitude')\n",
    "plt.ylabel:('Temperature')\n",
    "plt.show()"
   ]
  },
  {
   "cell_type": "code",
   "execution_count": 180,
   "metadata": {},
   "outputs": [
    {
     "name": "stdout",
     "output_type": "stream",
     "text": [
      "2      59.650026\n",
      "3      74.918679\n",
      "4      44.042926\n",
      "5      82.493122\n",
      "6      68.600661\n",
      "         ...    \n",
      "546    59.120340\n",
      "548    78.419119\n",
      "549    77.697962\n",
      "551    81.186542\n",
      "552    73.345046\n",
      "Name: Latitude, Length: 158, dtype: float64\n"
     ]
    }
   ],
   "source": [
    "# Perform a linear regression on temperature vs. southern latitude\n",
    "(slope, intercept, rvalue, pvalue, stderr) = stats.linregress(x_values, y_values)\n",
    "\n",
    "# Get regression values\n",
    "regress_values = x_values * slope + intercept\n",
    "print(regress_values)"
   ]
  },
  {
   "cell_type": "code",
   "execution_count": 181,
   "metadata": {},
   "outputs": [
    {
     "name": "stdout",
     "output_type": "stream",
     "text": [
      "y = 0.78x +86.52\n"
     ]
    }
   ],
   "source": [
    "# Create line equation string\n",
    "line_eq = \"y = \" + str(round(slope,2)) + \"x +\" + str(round(intercept,2))\n",
    "print(line_eq)"
   ]
  },
  {
   "cell_type": "markdown",
   "metadata": {},
   "source": [
    "####  Southern Hemisphere - Max Temp vs. Latitude Linear Regression"
   ]
  },
  {
   "cell_type": "code",
   "execution_count": 184,
   "metadata": {},
   "outputs": [
    {
     "name": "stdout",
     "output_type": "stream",
     "text": [
      "The r-squared is: 0.5183780795138124\n"
     ]
    },
    {
     "data": {
      "image/png": "[encoded data removed]",
      "text/plain": [
       "<Figure size 432x288 with 1 Axes>"
      ]
     },
     "metadata": {
      "needs_background": "light"
     },
     "output_type": "display_data"
    }
   ],
   "source": [
    "plt.scatter(x_values,y_values)\n",
    "plt.plot(x_values, regress_values, \"r-\")\n",
    "\n",
    "plt.xlabel:'Latitude'\n",
    "plt.ylabel:'Temperature'\n",
    "plt.annotate(line_eq,(-50,85),fontsize=15,color=\"red\")\n",
    "\n",
    "print(f\"The r-squared is: {rvalue**2}\")\n",
    "plt.savefig(\"south_lat_temp.png\")\n",
    "plt.show()"
   ]
  },
  {
   "cell_type": "code",
   "execution_count": 192,
   "metadata": {},
   "outputs": [
    {
     "data": {
      "image/png": "[encoded data removed]",
      "text/plain": [
       "<Figure size 432x288 with 1 Axes>"
      ]
     },
     "metadata": {
      "needs_background": "light"
     },
     "output_type": "display_data"
    }
   ],
   "source": [
    "x_values = north_weather_df[\"Latitude\"]\n",
    "y_values = north_weather_df[\"Humidity\"]\n",
    "plt.scatter(x_values,y_values)\n",
    "plt.xlabel:('Latitude')\n",
    "plt.ylabel:('Humidity')\n",
    "plt.show()"
   ]
  },
  {
   "cell_type": "code",
   "execution_count": 193,
   "metadata": {},
   "outputs": [
    {
     "name": "stdout",
     "output_type": "stream",
     "text": [
      "0      66.159705\n",
      "1      64.549602\n",
      "7      64.394625\n",
      "9      66.707859\n",
      "11     64.475063\n",
      "         ...    \n",
      "547    67.873762\n",
      "550    67.306754\n",
      "553    66.642785\n",
      "554    69.517616\n",
      "555    65.113444\n",
      "Name: Latitude, Length: 398, dtype: float64\n"
     ]
    }
   ],
   "source": [
    "# Perform a linear regression on humidity vs. north latitude\n",
    "(slope, intercept, rvalue, pvalue, stderr) = stats.linregress(x_values, y_values)\n",
    "\n",
    "# Get regression values\n",
    "regress_values = x_values * slope + intercept\n",
    "print(regress_values)"
   ]
  },
  {
   "cell_type": "code",
   "execution_count": 194,
   "metadata": {},
   "outputs": [
    {
     "name": "stdout",
     "output_type": "stream",
     "text": [
      "y = 0.11x +62.95\n"
     ]
    }
   ],
   "source": [
    "# Create line equation string\n",
    "line_eq = \"y = \" + str(round(slope,2)) + \"x +\" + str(round(intercept,2))\n",
    "print(line_eq)"
   ]
  },
  {
   "cell_type": "markdown",
   "metadata": {},
   "source": [
    "#### Northern Hemisphere: Humidity (%) vs. Latitude Linear Regression"
   ]
  },
  {
   "cell_type": "code",
   "execution_count": 198,
   "metadata": {},
   "outputs": [
    {
     "name": "stdout",
     "output_type": "stream",
     "text": [
      "The r-squared is: 0.008961479756136632\n"
     ]
    },
    {
     "data": {
      "image/png": "[encoded data removed]",
      "text/plain": [
       "<Figure size 432x288 with 1 Axes>"
      ]
     },
     "metadata": {
      "needs_background": "light"
     },
     "output_type": "display_data"
    }
   ],
   "source": [
    "plt.scatter(x_values,y_values)\n",
    "plt.plot(x_values, regress_values, \"r-\")\n",
    "\n",
    "plt.xlabel:'Latitude'\n",
    "plt.ylabel:'Humidity'\n",
    "plt.annotate(line_eq,(45,10),fontsize=15,color=\"red\")\n",
    "\n",
    "print(f\"The r-squared is: {rvalue**2}\")\n",
    "plt.savefig(\"north_lat_hum.png\")\n",
    "plt.show()"
   ]
  },
  {
   "cell_type": "code",
   "execution_count": 199,
   "metadata": {},
   "outputs": [
    {
     "data": {
      "image/png": "[encoded data removed]",
      "text/plain": [
       "<Figure size 432x288 with 1 Axes>"
      ]
     },
     "metadata": {
      "needs_background": "light"
     },
     "output_type": "display_data"
    }
   ],
   "source": [
    "# South hemisphere\n",
    "x_values = south_weather_df[\"Latitude\"]\n",
    "y_values = south_weather_df[\"Humidity\"]\n",
    "plt.scatter(x_values,y_values)\n",
    "plt.xlabel:('Latitude')\n",
    "plt.ylabel:('Humidity')\n",
    "plt.show()"
   ]
  },
  {
   "cell_type": "code",
   "execution_count": 200,
   "metadata": {},
   "outputs": [
    {
     "name": "stdout",
     "output_type": "stream",
     "text": [
      "2      72.194084\n",
      "3      69.488858\n",
      "4      74.959275\n",
      "5      68.146854\n",
      "6      70.608254\n",
      "         ...    \n",
      "546    72.287931\n",
      "548    68.868667\n",
      "549    68.996438\n",
      "551    68.378348\n",
      "552    69.767666\n",
      "Name: Latitude, Length: 158, dtype: float64\n"
     ]
    }
   ],
   "source": [
    "# Perform a linear regression on humidity vs. southern latitude\n",
    "(slope, intercept, rvalue, pvalue, stderr) = stats.linregress(x_values, y_values)\n",
    "\n",
    "# Get regression values\n",
    "regress_values = x_values * slope + intercept\n",
    "print(regress_values)"
   ]
  },
  {
   "cell_type": "code",
   "execution_count": 201,
   "metadata": {},
   "outputs": [
    {
     "name": "stdout",
     "output_type": "stream",
     "text": [
      "y = -0.14x +67.43\n"
     ]
    }
   ],
   "source": [
    "# Create line equation string\n",
    "line_eq = \"y = \" + str(round(slope,2)) + \"x +\" + str(round(intercept,2))\n",
    "print(line_eq)"
   ]
  },
  {
   "cell_type": "markdown",
   "metadata": {},
   "source": [
    "####  Southern Hemisphere - Humidity (%) vs. Latitude Linear Regression"
   ]
  },
  {
   "cell_type": "code",
   "execution_count": 203,
   "metadata": {},
   "outputs": [
    {
     "name": "stdout",
     "output_type": "stream",
     "text": [
      "The r-squared is: 0.006614053931655569\n"
     ]
    },
    {
     "data": {
      "image/png": "[encoded data removed]",
      "text/plain": [
       "<Figure size 432x288 with 1 Axes>"
      ]
     },
     "metadata": {
      "needs_background": "light"
     },
     "output_type": "display_data"
    }
   ],
   "source": [
    "plt.scatter(x_values,y_values)\n",
    "plt.plot(x_values, regress_values, \"r-\")\n",
    "\n",
    "plt.xlabel:'Latitude'\n",
    "plt.ylabel:'Humidity'\n",
    "plt.annotate(line_eq,(-55,35),fontsize=15,color=\"red\")\n",
    "\n",
    "print(f\"The r-squared is: {rvalue**2}\")\n",
    "plt.savefig(\"south_lat_hum.png\")\n",
    "plt.show()"
   ]
  },
  {
   "cell_type": "code",
   "execution_count": 204,
   "metadata": {},
   "outputs": [
    {
     "data": {
      "image/png": "[encoded data removed]",
      "text/plain": [
       "<Figure size 432x288 with 1 Axes>"
      ]
     },
     "metadata": {
      "needs_background": "light"
     },
     "output_type": "display_data"
    }
   ],
   "source": [
    "x_values = north_weather_df[\"Latitude\"]\n",
    "y_values = north_weather_df[\"Cloudiness\"]\n",
    "plt.scatter(x_values,y_values)\n",
    "plt.xlabel:('Latitude')\n",
    "plt.ylabel:('Cloudiness')\n",
    "plt.show()"
   ]
  },
  {
   "cell_type": "code",
   "execution_count": 205,
   "metadata": {},
   "outputs": [
    {
     "name": "stdout",
     "output_type": "stream",
     "text": [
      "0      56.291509\n",
      "1      55.184337\n",
      "7      55.077769\n",
      "9      56.668442\n",
      "11     55.133081\n",
      "         ...    \n",
      "547    57.470164\n",
      "550    57.080266\n",
      "553    56.623694\n",
      "554    58.600545\n",
      "555    55.572058\n",
      "Name: Latitude, Length: 398, dtype: float64\n"
     ]
    }
   ],
   "source": [
    "# Perform a linear regression on cloudiness % vs. north latitude\n",
    "(slope, intercept, rvalue, pvalue, stderr) = stats.linregress(x_values, y_values)\n",
    "\n",
    "# Get regression values\n",
    "regress_values = x_values * slope + intercept\n",
    "print(regress_values)"
   ]
  },
  {
   "cell_type": "code",
   "execution_count": 206,
   "metadata": {},
   "outputs": [
    {
     "name": "stdout",
     "output_type": "stream",
     "text": [
      "y = 0.07x +54.09\n"
     ]
    }
   ],
   "source": [
    "# Create line equation string\n",
    "line_eq = \"y = \" + str(round(slope,2)) + \"x +\" + str(round(intercept,2))\n",
    "print(line_eq)"
   ]
  },
  {
   "cell_type": "markdown",
   "metadata": {},
   "source": [
    "####  Northern Hemisphere - Cloudiness (%) vs. Latitude Linear Regression"
   ]
  },
  {
   "cell_type": "code",
   "execution_count": 210,
   "metadata": {},
   "outputs": [
    {
     "name": "stdout",
     "output_type": "stream",
     "text": [
      "The r-squared is: 0.001336569769668323\n"
     ]
    },
    {
     "data": {
      "image/png": "[encoded data removed]",
      "text/plain": [
       "<Figure size 432x288 with 1 Axes>"
      ]
     },
     "metadata": {
      "needs_background": "light"
     },
     "output_type": "display_data"
    }
   ],
   "source": [
    "plt.scatter(x_values,y_values)\n",
    "plt.plot(x_values, regress_values, \"r-\")\n",
    "\n",
    "plt.xlabel:('Latitude')\n",
    "plt.ylabel:('Cloudiness')\n",
    "plt.annotate(line_eq,(48,30),fontsize=15,color=\"red\")\n",
    "\n",
    "print(f\"The r-squared is: {rvalue**2}\")\n",
    "plt.savefig(\"north_lat_cloud.png\")\n",
    "plt.show()"
   ]
  },
  {
   "cell_type": "code",
   "execution_count": 211,
   "metadata": {},
   "outputs": [
    {
     "data": {
      "image/png": "[encoded data removed]",
      "text/plain": [
       "<Figure size 432x288 with 1 Axes>"
      ]
     },
     "metadata": {
      "needs_background": "light"
     },
     "output_type": "display_data"
    }
   ],
   "source": [
    "x_values = south_weather_df[\"Latitude\"]\n",
    "y_values = south_weather_df[\"Cloudiness\"]\n",
    "plt.scatter(x_values,y_values)\n",
    "plt.xlabel:('Latitude')\n",
    "plt.ylabel:('Cloudiness')\n",
    "plt.show()"
   ]
  },
  {
   "cell_type": "code",
   "execution_count": 212,
   "metadata": {},
   "outputs": [
    {
     "name": "stdout",
     "output_type": "stream",
     "text": [
      "2      55.115153\n",
      "3      58.878316\n",
      "4      51.268575\n",
      "5      60.745139\n",
      "6      57.321156\n",
      "         ...    \n",
      "546    54.984605\n",
      "548    59.741047\n",
      "549    59.563308\n",
      "551    60.423115\n",
      "552    58.490474\n",
      "Name: Latitude, Length: 158, dtype: float64\n"
     ]
    }
   ],
   "source": [
    "# Perform a linear regression on cloudiness % vs. south latitude\n",
    "(slope, intercept, rvalue, pvalue, stderr) = stats.linregress(x_values, y_values)\n",
    "\n",
    "# Get regression values\n",
    "regress_values = x_values * slope + intercept\n",
    "print(regress_values)"
   ]
  },
  {
   "cell_type": "code",
   "execution_count": 213,
   "metadata": {},
   "outputs": [
    {
     "name": "stdout",
     "output_type": "stream",
     "text": [
      "y = 0.19x +61.74\n"
     ]
    }
   ],
   "source": [
    "# Create line equation string\n",
    "line_eq = \"y = \" + str(round(slope,2)) + \"x +\" + str(round(intercept,2))\n",
    "print(line_eq)"
   ]
  },
  {
   "cell_type": "markdown",
   "metadata": {},
   "source": [
    "####  Southern Hemisphere - Cloudiness (%) vs. Latitude Linear Regression"
   ]
  },
  {
   "cell_type": "code",
   "execution_count": 216,
   "metadata": {},
   "outputs": [
    {
     "name": "stdout",
     "output_type": "stream",
     "text": [
      "The r-squared is: 0.004640646942633455\n"
     ]
    },
    {
     "data": {
      "image/png": "[encoded data removed]",
      "text/plain": [
       "<Figure size 432x288 with 1 Axes>"
      ]
     },
     "metadata": {
      "needs_background": "light"
     },
     "output_type": "display_data"
    }
   ],
   "source": [
    "plt.scatter(x_values,y_values)\n",
    "plt.plot(x_values, regress_values, \"r-\")\n",
    "\n",
    "plt.xlabel:('Latitude')\n",
    "plt.ylabel:('Cloudiness')\n",
    "plt.annotate(line_eq,(-55,20),fontsize=15,color=\"red\")\n",
    "\n",
    "print(f\"The r-squared is: {rvalue**2}\")\n",
    "plt.savefig(\"south_lat_cloud.png\")\n",
    "plt.show()"
   ]
  },
  {
   "cell_type": "code",
   "execution_count": 221,
   "metadata": {},
   "outputs": [
    {
     "data": {
      "image/png": "[encoded data removed]",
      "text/plain": [
       "<Figure size 432x288 with 1 Axes>"
      ]
     },
     "metadata": {
      "needs_background": "light"
     },
     "output_type": "display_data"
    }
   ],
   "source": [
    "x_values = north_weather_df[\"Latitude\"]\n",
    "y_values = north_weather_df[\"Wind Speed\"]\n",
    "plt.scatter(x_values,y_values)\n",
    "plt.xlabel:('Latitude')\n",
    "plt.ylabel:('Wind Speed')\n",
    "plt.show()"
   ]
  },
  {
   "cell_type": "code",
   "execution_count": 222,
   "metadata": {},
   "outputs": [
    {
     "name": "stdout",
     "output_type": "stream",
     "text": [
      "0      7.538446\n",
      "1      6.797809\n",
      "7      6.726520\n",
      "9      7.790593\n",
      "11     6.763521\n",
      "         ...   \n",
      "547    8.326900\n",
      "550    8.066080\n",
      "553    7.760659\n",
      "554    9.083063\n",
      "555    7.057172\n",
      "Name: Latitude, Length: 398, dtype: float64\n"
     ]
    }
   ],
   "source": [
    "# Perform a linear regression on wind speed % vs. north latitude\n",
    "(slope, intercept, rvalue, pvalue, stderr) = stats.linregress(x_values, y_values)\n",
    "\n",
    "# Get regression values\n",
    "regress_values = x_values * slope + intercept\n",
    "print(regress_values)"
   ]
  },
  {
   "cell_type": "code",
   "execution_count": 223,
   "metadata": {},
   "outputs": [
    {
     "name": "stdout",
     "output_type": "stream",
     "text": [
      "y = 0.05x +6.06\n"
     ]
    }
   ],
   "source": [
    "# Create line equation string\n",
    "line_eq = \"y = \" + str(round(slope,2)) + \"x +\" + str(round(intercept,2))\n",
    "print(line_eq)"
   ]
  },
  {
   "cell_type": "markdown",
   "metadata": {},
   "source": [
    "####  Northern Hemisphere - Wind Speed (mph) vs. Latitude Linear Regression"
   ]
  },
  {
   "cell_type": "code",
   "execution_count": 224,
   "metadata": {},
   "outputs": [
    {
     "name": "stdout",
     "output_type": "stream",
     "text": [
      "The r-squared is: 0.02304613808426567\n"
     ]
    },
    {
     "data": {
      "image/png": "[encoded data removed]",
      "text/plain": [
       "<Figure size 432x288 with 1 Axes>"
      ]
     },
     "metadata": {
      "needs_background": "light"
     },
     "output_type": "display_data"
    }
   ],
   "source": [
    "plt.scatter(x_values,y_values)\n",
    "plt.plot(x_values, regress_values, \"r-\")\n",
    "\n",
    "plt.xlabel:('Latitude')\n",
    "plt.ylabel:('Wind Speed')\n",
    "plt.annotate(line_eq,(5,35),fontsize=15,color=\"red\")\n",
    "\n",
    "print(f\"The r-squared is: {rvalue**2}\")\n",
    "plt.savefig(\"snorth_lat_speed.png\")\n",
    "plt.show()"
   ]
  },
  {
   "cell_type": "code",
   "execution_count": 217,
   "metadata": {},
   "outputs": [
    {
     "data": {
      "image/png": "[encoded data removed]",
      "text/plain": [
       "<Figure size 432x288 with 1 Axes>"
      ]
     },
     "metadata": {
      "needs_background": "light"
     },
     "output_type": "display_data"
    }
   ],
   "source": [
    "x_values = south_weather_df[\"Latitude\"]\n",
    "y_values = south_weather_df[\"Wind Speed\"]\n",
    "plt.scatter(x_values,y_values)\n",
    "plt.xlabel:('Latitude')\n",
    "plt.ylabel:('Wind Speed')\n",
    "plt.show()"
   ]
  },
  {
   "cell_type": "code",
   "execution_count": 218,
   "metadata": {},
   "outputs": [
    {
     "name": "stdout",
     "output_type": "stream",
     "text": [
      "2      8.172111\n",
      "3      8.088696\n",
      "4      8.257374\n",
      "5      8.047315\n",
      "6      8.123212\n",
      "         ...   \n",
      "546    8.175004\n",
      "548    8.069572\n",
      "549    8.073512\n",
      "551    8.054453\n",
      "552    8.097293\n",
      "Name: Latitude, Length: 158, dtype: float64\n"
     ]
    }
   ],
   "source": [
    "# Perform a linear regression on wind speed % vs. south latitude\n",
    "(slope, intercept, rvalue, pvalue, stderr) = stats.linregress(x_values, y_values)\n",
    "\n",
    "# Get regression values\n",
    "regress_values = x_values * slope + intercept\n",
    "print(regress_values)"
   ]
  },
  {
   "cell_type": "code",
   "execution_count": 219,
   "metadata": {},
   "outputs": [
    {
     "name": "stdout",
     "output_type": "stream",
     "text": [
      "y = -0.0x +8.03\n"
     ]
    }
   ],
   "source": [
    "# Create line equation string\n",
    "line_eq = \"y = \" + str(round(slope,2)) + \"x +\" + str(round(intercept,2))\n",
    "print(line_eq)"
   ]
  },
  {
   "cell_type": "markdown",
   "metadata": {},
   "source": [
    "####  Southern Hemisphere - Wind Speed (mph) vs. Latitude Linear Regression"
   ]
  },
  {
   "cell_type": "code",
   "execution_count": 220,
   "metadata": {},
   "outputs": [
    {
     "name": "stdout",
     "output_type": "stream",
     "text": [
      "The r-squared is: 0.00011193449365792296\n"
     ]
    },
    {
     "data": {
      "image/png": "[encoded data removed]",
      "text/plain": [
       "<Figure size 432x288 with 1 Axes>"
      ]
     },
     "metadata": {
      "needs_background": "light"
     },
     "output_type": "display_data"
    }
   ],
   "source": [
    "plt.scatter(x_values,y_values)\n",
    "plt.plot(x_values, regress_values, \"r-\")\n",
    "\n",
    "plt.xlabel:('Latitude')\n",
    "plt.ylabel:('Wind Speed')\n",
    "plt.annotate(line_eq,(-45,25),fontsize=15,color=\"red\")\n",
    "\n",
    "print(f\"The r-squared is: {rvalue**2}\")\n",
    "plt.savefig(\"south_lat_speed.png\")\n",
    "plt.show()"
   ]
  },
  {
   "cell_type": "code",
   "execution_count": null,
   "metadata": {},
   "outputs": [],
   "source": []
  }
 ],
 "metadata": {
  "anaconda-cloud": {},
  "interpreter": {
   "hash": "299e6cb8ca5934736a6e61a54c4dbb72be319cf1192d0c086e1bc3c755e5d419"
  },
  "kernel_info": {
   "name": "python3"
  },
  "kernelspec": {
   "display_name": "Python 3",
   "language": "python",
   "name": "python3"
  },
  "language_info": {
   "codemirror_mode": {
    "name": "ipython",
    "version": 3
   },
   "file_extension": ".py",
   "mimetype": "text/x-python",
   "name": "python",
   "nbconvert_exporter": "python",
   "pygments_lexer": "ipython3",
   "version": "3.6.13"
  },
  "latex_envs": {
   "LaTeX_envs_menu_present": true,
   "autoclose": false,
   "autocomplete": true,
   "bibliofile": "biblio.bib",
   "cite_by": "apalike",
   "current_citInitial": 1,
   "eqLabelWithNumbers": true,
   "eqNumInitial": 1,
   "hotkeys": {
    "equation": "Ctrl-E",
    "itemize": "Ctrl-I"
   },
   "labels_anchors": false,
   "latex_user_defs": false,
   "report_style_numbering": false,
   "user_envs_cfg": false
  },
  "nteract": {
   "version": "0.12.3"
  }
 },
 "nbformat": 4,
 "nbformat_minor": 2
}
